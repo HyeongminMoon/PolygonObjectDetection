{
 "cells": [
  {
   "cell_type": "code",
   "execution_count": null,
   "metadata": {},
   "outputs": [],
   "source": [
    "import pickle, json\n",
    "\n",
    "with open('crop_data_revised.pickle', 'rb') as f:\n",
    "    cropped_list = pickle.load(f)"
   ]
  },
  {
   "cell_type": "code",
   "execution_count": null,
   "metadata": {},
   "outputs": [],
   "source": [
    "for c in cropped_list:\n",
    "    if len(c['box']) != 4:\n",
    "        print(\"??\")"
   ]
  },
  {
   "cell_type": "code",
   "execution_count": null,
   "metadata": {},
   "outputs": [],
   "source": [
    "import cv2\n",
    "import os\n",
    "import numpy as np\n",
    "# item = cropped_list[0]\n",
    "fs_ = 'train'\n",
    "img = cv2.imread(cropped_list[0]['img_path'].replace('/', f'/images/{fs_}/'))\n",
    "\n",
    "fs = ['train','test','val']\n",
    "for fs_ in fs:\n",
    "    for item in cropped_list:\n",
    "        try:\n",
    "            box = item['box']\n",
    "            img_path = item['img_path'].replace('/', f'/images/{fs_}/')\n",
    "            \n",
    "#         #     print(box)\n",
    "            box = np.array(box).astype(np.float32)\n",
    "            box[:,0] = box[:,0] / img.shape[1]\n",
    "            box[:,1] = box[:,1] / img.shape[0]\n",
    "#             print(box)\n",
    "        except:\n",
    "            print(item)\n",
    "            continue\n",
    "        box = np.reshape(box,(8))\n",
    "        string_data = \"0\"\n",
    "        for b in box:\n",
    "            string_data += f\" {b:.2f}\"\n",
    "        string_data += '\\n'\n",
    "#         print(string_data)\n",
    "#         if os.path.exists(img_path.replace('.png', '.txt').replace('images','labels')):\n",
    "#             os.remove(img_path.replace('.png', '.txt').replace('images','labels'))\n",
    "        \n",
    "        \n",
    "        with open(img_path.replace('.png', '.txt').replace('images','labels'),'a') as f:\n",
    "            f.writelines(string_data)"
   ]
  },
  {
   "cell_type": "code",
   "execution_count": null,
   "metadata": {},
   "outputs": [],
   "source": [
    "img = cv2.imread(img_path)\n",
    "img"
   ]
  },
  {
   "cell_type": "code",
   "execution_count": null,
   "metadata": {},
   "outputs": [],
   "source": [
    "import glob\n",
    "\n",
    "for fs_ in fs:\n",
    "    impath = glob.glob(f'dataset/labels/{fs_}/*')\n",
    "    for path in impath:\n",
    "        string_data = '../../Yolov5_DeepSort_Pytorch/yolov5/'+ path.replace('labels','images').replace('.txt','.png') + '\\n'\n",
    "        with open(f'dataset/{fs_}.txt', 'a') as f:\n",
    "            f.writelines(string_data)"
   ]
  },
  {
   "cell_type": "code",
   "execution_count": null,
   "metadata": {},
   "outputs": [],
   "source": [
    "\n"
   ]
  },
  {
   "cell_type": "code",
   "execution_count": null,
   "metadata": {},
   "outputs": [],
   "source": [
    "img.shape"
   ]
  },
  {
   "cell_type": "code",
   "execution_count": null,
   "metadata": {},
   "outputs": [],
   "source": [
    "import random\n",
    "import numpy as np\n",
    "def make_box(img, box):\n",
    "    shape = img.shape[:2]\n",
    "    box_np = np.array(box)\n",
    "    max_x, max_y, min_x, min_y =np.max(box_np[:,0]), np.max(box_np[:,1]), np.min(box_np[:,0]),np.min(box_np[:,1])\n",
    "    \n",
    "    \n",
    "    min_x = min_x - random.randint(0, 100)\n",
    "    min_y = min_y - random.randint(0, 100)\n",
    "    max_x = max_x +random.randint(0, 100)\n",
    "    max_y = max_y +random.randint(0, 100)\n",
    "    min_x = 0 if min_x <0 else min_x\n",
    "    min_y = 0 if min_y <0 else min_y\n",
    "    max_x = shape[1] if max_x >shape[1] else max_x\n",
    "    max_y = shape[0] if max_y >shape[0] else max_y\n",
    "    return (min_x,min_y), (max_x,max_y)\n",
    "\n",
    "\n",
    "\n",
    "from PIL import Image\n",
    "import cv2\n",
    "for item in cropped_list:\n",
    "    box = item['box']\n",
    "    img = cv2.imread(item['img_path'])\n",
    "    print(item)\n",
    "    print(img.shape,np.array(box))\n",
    "    lt, rb = make_box(img, box)\n",
    "    \n",
    "    l,t = lt\n",
    "    r, b = rb\n",
    "    \n",
    "    \n",
    "    \n",
    "    x, y = (l+r)//2/img.shape[1], (t+b)//2/img.shape[0]\n",
    "    w, h = (r-l)/img.shape[1], (b-t)/img.shape[0]\n",
    "    print(x,y,w,h)\n",
    "    \n",
    "\n",
    "#     Image.fromarray(img).show()\n",
    "#     Image.open(item['cropped_img_path'].replace(\"_0.\", \".\")).show()\n",
    "    \n",
    "    string_data = f\"0 {x:.2f} {y:.2f} {w:.2f} {h:.2f}\\n\"\n",
    "    print(string_data)\n",
    "    with open(item['img_path'].replace('.png', '.txt'),'a') as f:\n",
    "        f.writelines(string_data)"
   ]
  },
  {
   "cell_type": "code",
   "execution_count": null,
   "metadata": {
    "scrolled": true
   },
   "outputs": [],
   "source": [
    "import random\n",
    "import cv2\n",
    "import numpy as np\n",
    "import matplotlib.pyplot as plt\n",
    "import glob\n",
    "import os\n",
    "\n",
    "impath = glob.glob(\"../../Yolov5_DeepSort_Pytorch/yolov5/dataset/banana/*.png\")\n",
    "# for item in item_list:\n",
    "flag = False\n",
    "# for item in item_list:\n",
    "for path in impath:\n",
    "    print(path)\n",
    "    img = cv2.imread(path)\n",
    "    ori_img = img.copy()\n",
    "    boxes = []\n",
    "\n",
    "    gray = cv2.cvtColor(img, cv2.COLOR_BGR2GRAY)\n",
    "    ret, thr = cv2.threshold(gray, 150, 255, 0)\n",
    "    contours, hierarchy = cv2.findContours(thr, cv2.RETR_EXTERNAL, cv2.CHAIN_APPROX_SIMPLE)\n",
    "    count = 0\n",
    "    for cnt in contours:\n",
    "        area = cv2.contourArea(cnt)\n",
    "        if area < 90000:\n",
    "            continue\n",
    "        cv2.drawContours(img, [cnt], -1, (255,255,0), 5)\n",
    "    #     if area > 500000:\n",
    "    #         continue\n",
    "\n",
    "    #         epsilon1 = 0.05*cv2.arcLength(cnt, True)\n",
    "        approx1 = cv2.approxPolyDP(cnt, 10, True)\n",
    "    #         print(area)\n",
    "    #         print(len(approx1))\n",
    "        if len(approx1) > 20:\n",
    "            continue\n",
    "        rect = cv2.minAreaRect(cnt)\n",
    "\n",
    "        box = cv2.boxPoints(rect)\n",
    "        box = np.array(box).astype(np.int32)\n",
    "        box = sorted(box, key=lambda x:x[1])\n",
    "        boxes.append(box)\n",
    "        cv2.line(img,tuple(box[0]),tuple(box[1]),(0,255,255),5)\n",
    "        cv2.line(img,tuple(box[1]),tuple(box[3]),(0,255,255),5)\n",
    "        cv2.line(img,tuple(box[3]),tuple(box[2]),(0,255,255),5)\n",
    "        cv2.line(img,tuple(box[2]),tuple(box[0]),(0,255,255),5)\n",
    "\n",
    "    #     0 0.70 0.19 0.46 0.19 0.46 0.46 0.70 0.46\n",
    "    with open(\"dataset/labels_new/val/\"+os.path.basename(path).replace('.png','.txt'), \"a\") as f:\n",
    "        for box in boxes:\n",
    "            string = \"0\"\n",
    "            box = np.array(box, dtype=np.float32)\n",
    "            box[:,0] = box[:,0] / img.shape[1]\n",
    "            box[:,1] = box[:,1] / img.shape[0]\n",
    "            box = np.reshape(box, (8))\n",
    "            for b in box:\n",
    "                string += f\" {float(b):.6f}\"\n",
    "            string += \"\\n\"\n",
    "            print(string)\n",
    "            f.writelines(string)\n",
    "\n",
    "    thr = cv2.cvtColor(thr, cv2.COLOR_GRAY2BGR)\n",
    "    result = cv2.hconcat([thr,img])\n",
    "    #     Image.fromarray(result).show()\n",
    "    fig = plt.figure()\n",
    "    fig.set_size_inches(20,7)\n",
    "    plt.imshow(result)\n",
    "    plt.show()\n",
    "    cv2.imwrite(\"dataset/images_new/val/\"+os.path.basename(path),ori_img)\n",
    "    #     Image.fromarray(img).show()"
   ]
  },
  {
   "cell_type": "code",
   "execution_count": 211,
   "metadata": {},
   "outputs": [],
   "source": [
    "import base64\n",
    "import glob\n",
    "import cv2, requests, json\n",
    "import numpy as np\n",
    "from urllib.request import urlopen\n",
    "import tqdm\n",
    "import pickle\n",
    "from PIL import Image"
   ]
  },
  {
   "cell_type": "code",
   "execution_count": null,
   "metadata": {
    "scrolled": true
   },
   "outputs": [],
   "source": [
    "with open('dataset/val.txt', 'r') as f:\n",
    "    item_list = f.readlines()\n",
    "    \n",
    "import glob\n",
    "import os\n",
    "import matplotlib.pyplot as plt\n",
    "\n",
    "impath = glob.glob(\"dataset/images/val/*.png\")\n",
    "# for item in item_list:\n",
    "flag = False\n",
    "# for item in item_list:\n",
    "for path in impath:\n",
    "    if '_0.png' in path:\n",
    "        continue\n",
    "#     print(item.strip())\n",
    "#     img = cv2.imread(item.strip())\n",
    "    print(path)\n",
    "    img = cv2.imread(path)\n",
    "    ori_img = img.copy()\n",
    "    boxes = []\n",
    "\n",
    "    gray = cv2.cvtColor(img, cv2.COLOR_BGR2GRAY)\n",
    "    ret, thr = cv2.threshold(gray, 30, 255, 0)\n",
    "    contours, hierarchy = cv2.findContours(thr, cv2.RETR_EXTERNAL, cv2.CHAIN_APPROX_SIMPLE)\n",
    "    count = 0\n",
    "    for cnt in contours:\n",
    "        area = cv2.contourArea(cnt)\n",
    "        if area < 90000:\n",
    "            continue\n",
    "        cv2.drawContours(img, [cnt], -1, (255,255,0), 5)\n",
    "    #     if area > 500000:\n",
    "    #         continue\n",
    "\n",
    "#         epsilon1 = 0.05*cv2.arcLength(cnt, True)\n",
    "        approx1 = cv2.approxPolyDP(cnt, 10, True)\n",
    "#         print(area)\n",
    "#         print(len(approx1))\n",
    "        if len(approx1) > 20:\n",
    "            continue\n",
    "        rect = cv2.minAreaRect(cnt)\n",
    "\n",
    "        box = cv2.boxPoints(rect)\n",
    "        box = np.array(box).astype(np.int32)\n",
    "        box = sorted(box, key=lambda x:x[1])\n",
    "        boxes.append(box)\n",
    "        cv2.line(img,tuple(box[0]),tuple(box[1]),(0,255,255),5)\n",
    "        cv2.line(img,tuple(box[1]),tuple(box[3]),(0,255,255),5)\n",
    "        cv2.line(img,tuple(box[3]),tuple(box[2]),(0,255,255),5)\n",
    "        cv2.line(img,tuple(box[2]),tuple(box[0]),(0,255,255),5)\n",
    "    \n",
    "#     0 0.70 0.19 0.46 0.19 0.46 0.46 0.70 0.46\n",
    "    with open(\"dataset/labels_new/val/\"+os.path.basename(path).replace('.png','.txt'), \"a\") as f:\n",
    "        for box in boxes:\n",
    "            string = \"0\"\n",
    "            box = np.array(box, dtype=np.float32)\n",
    "            box[:,0] = box[:,0] / img.shape[1]\n",
    "            box[:,1] = box[:,1] / img.shape[0]\n",
    "            box = np.reshape(box, (8))\n",
    "            for b in box:\n",
    "                string += f\" {float(b):.6f}\"\n",
    "            string += \"\\n\"\n",
    "            print(string)\n",
    "            f.writelines(string)\n",
    "    \n",
    "    thr = cv2.cvtColor(thr, cv2.COLOR_GRAY2BGR)\n",
    "    result = cv2.hconcat([thr,img])\n",
    "#     Image.fromarray(result).show()\n",
    "    fig = plt.figure()\n",
    "    fig.set_size_inches(20,7)\n",
    "    plt.imshow(result)\n",
    "    plt.show()\n",
    "    cv2.imwrite(\"dataset/images_new/val/\"+os.path.basename(path),ori_img)\n",
    "#     Image.fromarray(img).show()"
   ]
  },
  {
   "cell_type": "code",
   "execution_count": 228,
   "metadata": {},
   "outputs": [
    {
     "data": {
      "text/plain": [
       "array([0, 0, 0, 0, 0, 0, 0, 0], dtype=int32)"
      ]
     },
     "execution_count": 228,
     "metadata": {},
     "output_type": "execute_result"
    }
   ],
   "source": [
    "box"
   ]
  },
  {
   "cell_type": "code",
   "execution_count": 164,
   "metadata": {},
   "outputs": [
    {
     "data": {
      "text/plain": [
       "((1919.499755859375, 1079.499755859375),\n",
       " (3838.99951171875, 2158.99951171875),\n",
       " -0.0)"
      ]
     },
     "execution_count": 164,
     "metadata": {},
     "output_type": "execute_result"
    }
   ],
   "source": [
    "rect "
   ]
  },
  {
   "cell_type": "code",
   "execution_count": 14,
   "metadata": {},
   "outputs": [
    {
     "name": "stdout",
     "output_type": "stream",
     "text": [
      "../../Yolov5_DeepSort_Pytorch/yolov5/dataset/images/train/0021.png\n",
      "../../Yolov5_DeepSort_Pytorch/yolov5/dataset/images/train/0336.png\n",
      "../../Yolov5_DeepSort_Pytorch/yolov5/dataset/images/train/0022.png\n",
      "../../Yolov5_DeepSort_Pytorch/yolov5/dataset/images/train/0023.png\n",
      "../../Yolov5_DeepSort_Pytorch/yolov5/dataset/images/train/0332.png\n",
      "../../Yolov5_DeepSort_Pytorch/yolov5/dataset/images/train/0320.png\n"
     ]
    }
   ],
   "source": [
    "with open('dataset/removed.txt', 'r') as wf:\n",
    "    lines = wf.readlines()\n",
    "\n",
    "impath = glob.glob('dataset/images_new/val/*.png')\n",
    "for path in impath:\n",
    "    if os.path.basename(path).replace('.txt','.png') +'\\n' in lines:\n",
    "        print(path)\n",
    "        os.remove(path)\n",
    "    else:\n",
    "        print(\"../../Yolov5_DeepSort_Pytorch/yolov5/dataset/images/train/\"+os.path.basename(path))\n",
    "#         os.remove(path)\n"
   ]
  },
  {
   "cell_type": "code",
   "execution_count": 247,
   "metadata": {},
   "outputs": [
    {
     "data": {
      "text/plain": [
       "'0448.txt'"
      ]
     },
     "execution_count": 247,
     "metadata": {},
     "output_type": "execute_result"
    }
   ],
   "source": [
    "os.path.basename(path).replace('.png','.txt')"
   ]
  },
  {
   "cell_type": "code",
   "execution_count": 265,
   "metadata": {},
   "outputs": [],
   "source": [
    "impath = glob.glob('dataset/images_new/val/*.png')\n",
    "with open('dataset/val_new.txt', 'w') as f:\n",
    "    for path in impath:\n",
    "        f.writelines('../../Yolov5_DeepSort_Pytorch/yolov5/dataset/images/val/'+os.path.basename(path)+'\\n')"
   ]
  },
  {
   "cell_type": "code",
   "execution_count": 281,
   "metadata": {},
   "outputs": [],
   "source": [
    "paths = glob.glob('dataset/labels/**/*.txt')\n",
    "for path in paths:\n",
    "    with open(path, 'r') as f:\n",
    "        lines = f.readlines()\n",
    "        lines = list(set(lines))\n",
    "    with open(path, 'w') as f2:\n",
    "        for line in lines:\n",
    "            order = line[:-1].split(' ')\n",
    "            string = f\"0 {order[1]} {order[2]} {order[3]} {order[4]} {order[7]} {order[8]} {order[5]} {order[6]}\\n\"\n",
    "            f2.writelines(string)"
   ]
  },
  {
   "cell_type": "code",
   "execution_count": 272,
   "metadata": {},
   "outputs": [
    {
     "data": {
      "text/plain": [
       "['0',\n",
       " '0.814323',\n",
       " '0.017593',\n",
       " '0.662500',\n",
       " '0.097685',\n",
       " '0.845312',\n",
       " '0.201852',\n",
       " '0.693229',\n",
       " '0.282407']"
      ]
     },
     "execution_count": 272,
     "metadata": {},
     "output_type": "execute_result"
    }
   ],
   "source": [
    "line[:-1].split(' ')"
   ]
  },
  {
   "cell_type": "code",
   "execution_count": null,
   "metadata": {},
   "outputs": [],
   "source": [
    "0 0.814323 0.017593 0.662500 0.097685 0.845312 0.201852 0.693229 0.282407\n",
    "0 0.814323 0.017593 0.662500 0.097685 0.693229 0.282407 0.845312 0.201852\n",
    "\n",
    "0 0.455990 0.179630 0.700260 0.181944 0.455208 0.460185 0.699479 0.462500\n",
    "0 0.455990 0.179630 0.700260 0.181944 0.455208 0.460185 0.699479 0.462500\n",
    "0 0.455990 0.179630 0.700260 0.181944 0.699479 0.462500 0.455208 0.460185\n",
    "0 0.455990 0.179630 0.700260 0.181944 0.699479 0.462500 0.455208 0.460185\n"
   ]
  }
 ],
 "metadata": {
  "kernelspec": {
   "display_name": "yolopoly",
   "language": "python",
   "name": "yolopoly"
  },
  "language_info": {
   "codemirror_mode": {
    "name": "ipython",
    "version": 3
   },
   "file_extension": ".py",
   "mimetype": "text/x-python",
   "name": "python",
   "nbconvert_exporter": "python",
   "pygments_lexer": "ipython3",
   "version": "3.7.11"
  }
 },
 "nbformat": 4,
 "nbformat_minor": 5
}
